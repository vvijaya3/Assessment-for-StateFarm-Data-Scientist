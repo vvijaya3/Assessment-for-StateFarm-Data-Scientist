{
 "cells": [
  {
   "cell_type": "code",
   "execution_count": null,
   "metadata": {},
   "outputs": [],
   "source": [
    "#import libs\n",
    "import os\n",
    "import pandas as pd\n",
    "import numpy as np\n",
    "import pickle"
   ]
  },
  {
   "cell_type": "code",
   "execution_count": null,
   "metadata": {},
   "outputs": [],
   "source": [
    "#Open models and test data\n",
    "with open('clf', 'rb') as c:\n",
    "    clf = pickle.load(c)\n",
    "    \n",
    "with open('clf2', 'rb') as c2:\n",
    "    clf2 = pickle.load(c2)\n",
    "    \n",
    "with open('x_df_test', 'rb') as x:\n",
    "    X_test = pickle.load(x)"
   ]
  },
  {
   "cell_type": "code",
   "execution_count": null,
   "metadata": {},
   "outputs": [],
   "source": [
    "clf_probs = clf.predict_proba(X_test)\n",
    "np.savetxt(\"results1.csv\", clf_probs[:,1], delimiter=\",\")"
   ]
  },
  {
   "cell_type": "code",
   "execution_count": null,
   "metadata": {},
   "outputs": [],
   "source": [
    "clf2_probs = clf2.predict_proba(X_test)\n",
    "np.savetxt(\"results2.csv\", clf2_probs[:,1], delimiter=\",\")"
   ]
  },
  {
   "cell_type": "code",
   "execution_count": null,
   "metadata": {},
   "outputs": [],
   "source": []
  }
 ],
 "metadata": {
  "kernelspec": {
   "display_name": "Python 3",
   "language": "python",
   "name": "python3"
  },
  "language_info": {
   "codemirror_mode": {
    "name": "ipython",
    "version": 3
   },
   "file_extension": ".py",
   "mimetype": "text/x-python",
   "name": "python",
   "nbconvert_exporter": "python",
   "pygments_lexer": "ipython3",
   "version": "3.7.3"
  }
 },
 "nbformat": 4,
 "nbformat_minor": 2
}
