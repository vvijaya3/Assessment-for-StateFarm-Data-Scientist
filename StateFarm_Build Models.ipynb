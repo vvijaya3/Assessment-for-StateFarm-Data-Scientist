{
 "cells": [
  {
   "cell_type": "code",
   "execution_count": null,
   "metadata": {},
   "outputs": [],
   "source": [
    "#import libs\n",
    "import pandas as pd\n",
    "import numpy as np\n",
    "from sklearn.metrics import roc_auc_score\n",
    "from sklearn.model_selection import train_test_split\n",
    "from sklearn.svm import SVC\n",
    "from sklearn.grid_search import GridSearchCV\n",
    "from sklearn.linear_model import LogisticRegression\n",
    "from sklearn.feature_selection import RFECV\n",
    "import pickle"
   ]
  },
  {
   "cell_type": "code",
   "execution_count": null,
   "metadata": {},
   "outputs": [],
   "source": [
    "#open x abd y df's\n",
    "with open('x_df', 'rb') as x:\n",
    "    x_df = pickle.load(x)"
   ]
  },
  {
   "cell_type": "code",
   "execution_count": null,
   "metadata": {},
   "outputs": [],
   "source": [
    "with open('y_df', 'rb') as y:\n",
    "    y_df = pickle.load(y)"
   ]
  },
  {
   "cell_type": "code",
   "execution_count": null,
   "metadata": {},
   "outputs": [],
   "source": [
    "#split x and y data into train/test sets\n",
    "X_train, X_test, y_train, y_test = train_test_split(x_df,\n",
    "                                  y_df,\n",
    "                                  test_size=0.2,\n",
    "                                  random_state=1)"
   ]
  },
  {
   "cell_type": "code",
   "execution_count": null,
   "metadata": {},
   "outputs": [],
   "source": [
    "#scoring metric to optimize\n",
    "score = 'roc_auc'"
   ]
  },
  {
   "cell_type": "code",
   "execution_count": null,
   "metadata": {},
   "outputs": [],
   "source": [
    "# Model 1- SVM"
   ]
  },
  {
   "cell_type": "code",
   "execution_count": null,
   "metadata": {},
   "outputs": [],
   "source": [
    "#setup grid search\n",
    "grid_parameters = [{'kernel': ['rbf'], 'gamma': [1e-3, 1e-4],\n",
    "                     'C': [1, 10, 100, 1000]}]\n",
    "\n",
    "#run grid search to find best gamma\n",
    "clf = GridSearchCV(SVC(probability=True),\n",
    "                   grid_parameters,\n",
    "                   cv=3,\n",
    "                   scoring=score,\n",
    "                   n_jobs = -1)\n",
    "\n",
    "#fit SVM\n",
    "#NOTE: This will take a long time!!!!!!\n",
    "clf.fit(X_train, y_train)"
   ]
  },
  {
   "cell_type": "code",
   "execution_count": null,
   "metadata": {},
   "outputs": [],
   "source": [
    "# Output obtained by SVM\n",
    "\n",
    "GridSearchCV(cv=3, error_score='raise',\n",
    "       estimator=SVC(C=1.0, cache_size=200, class_weight=None, coef0=0.0,\n",
    "  decision_function_shape='ovr', degree=3, gamma='auto', kernel='rbf',\n",
    "  max_iter=-1, probability=True, random_state=None, shrinking=True,\n",
    "  tol=0.001, verbose=False),\n",
    "       fit_params={}, iid=True, n_jobs=-1,\n",
    "       param_grid=[{'kernel': ['rbf'], 'gamma': [0.001, 0.0001], 'C': [1, 10, 100, 1000]}],\n",
    "       pre_dispatch='2*n_jobs', refit=True, scoring='roc_auc', verbose=0)"
   ]
  },
  {
   "cell_type": "code",
   "execution_count": null,
   "metadata": {},
   "outputs": [],
   "source": [
    "#Generate predicted probabilites\n",
    "clf_probs = clf.predict_proba(X_test)\n",
    "print('AUC: ', roc_auc_score(y_test, clf_probs[:,1]))\n",
    "print('Accuracy: ', clf.score(X_test, y_test))\n",
    "\n",
    "AUC:  0.9916754740287814\n",
    "Accuracy:  0.9916754740287813"
   ]
  },
  {
   "cell_type": "code",
   "execution_count": null,
   "metadata": {},
   "outputs": [],
   "source": [
    "#Pickle model 1\n",
    "with open('clf', 'wb') as c:\n",
    "    pickle.dump(clf, c, pickle.HIGHEST_PROTOCOL)"
   ]
  },
  {
   "cell_type": "code",
   "execution_count": null,
   "metadata": {},
   "outputs": [],
   "source": [
    "# Model 2: Logistic Regression w/ Feature Reduction"
   ]
  },
  {
   "cell_type": "code",
   "execution_count": null,
   "metadata": {},
   "outputs": [],
   "source": [
    "#Setup recursive feature reduction w/ cross validation\n",
    "clf2 = RFECV(LogisticRegression(),\n",
    "      scoring = score,\n",
    "      n_jobs = -1,\n",
    "      cv = 3,\n",
    "      step = 5)"
   ]
  },
  {
   "cell_type": "code",
   "execution_count": null,
   "metadata": {},
   "outputs": [],
   "source": [
    "clf2.fit(X_train, y_train)\n",
    "\n",
    "#O/P \n",
    "\n",
    "\n",
    "RFECV(cv=3,\n",
    "   estimator=LogisticRegression(C=1.0, class_weight=None, dual=False, fit_intercept=True,\n",
    "          intercept_scaling=1, max_iter=100, multi_class='ovr', n_jobs=1,\n",
    "          penalty='l2', random_state=None, solver='liblinear', tol=0.0001,\n",
    "          verbose=0, warm_start=False),\n",
    "   n_jobs=-1, scoring='roc_auc', step=5, verbose=0)"
   ]
  },
  {
   "cell_type": "code",
   "execution_count": null,
   "metadata": {},
   "outputs": [],
   "source": [
    "#Generate predicted probabilites\n",
    "clf2_probs = clf2.predict_proba(X_test)\n",
    "print('AUC: ', roc_auc_score(y_test, clf2_probs[:,1]))\n",
    "print('Accuracy: ', clf2.score(X_test, y_test))\n",
    "\n",
    "#Output obtained\n",
    "\n",
    "AUC:  0.9088576122537212\n",
    "Accuracy:  0.893625"
   ]
  },
  {
   "cell_type": "code",
   "execution_count": null,
   "metadata": {},
   "outputs": [],
   "source": [
    "#Pickle model 2\n",
    "with open('clf2', 'wb') as c:\n",
    "    pickle.dump(clf2, c, pickle.HIGHEST_PROTOCOL)"
   ]
  },
  {
   "cell_type": "code",
   "execution_count": null,
   "metadata": {},
   "outputs": [],
   "source": [
    "clf2_probs[:,1]\n",
    "\n",
    "#Output\n",
    "\n",
    "array([0.37702643, 0.0238426 , 0.025249  , ..., 0.52471461, 0.2553194 ,\n",
    "       0.04357831])"
   ]
  }
 ],
 "metadata": {
  "kernelspec": {
   "display_name": "Python 3",
   "language": "python",
   "name": "python3"
  },
  "language_info": {
   "codemirror_mode": {
    "name": "ipython",
    "version": 3
   },
   "file_extension": ".py",
   "mimetype": "text/x-python",
   "name": "python",
   "nbconvert_exporter": "python",
   "pygments_lexer": "ipython3",
   "version": "3.7.3"
  }
 },
 "nbformat": 4,
 "nbformat_minor": 2
}
